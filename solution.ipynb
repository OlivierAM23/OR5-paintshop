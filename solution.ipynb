{
 "cells": [
  {
   "cell_type": "code",
   "execution_count": 98,
   "metadata": {},
   "outputs": [],
   "source": [
    "import pandas as pd\n",
    "import numpy as np\n",
    "import random as rng\n",
    "\n",
    "from schedule import Schedule\n",
    "from paintshop import PaintShop\n",
    "from move import Move\n",
    "\n",
    "\n",
    "# DEBUG (reload import)\n",
    "from importlib import reload\n",
    "import paintshop\n",
    "reload(paintshop)\n",
    "from paintshop import PaintShop"
   ]
  },
  {
   "cell_type": "markdown",
   "metadata": {},
   "source": [
    "# Settings"
   ]
  },
  {
   "cell_type": "code",
   "execution_count": 99,
   "metadata": {},
   "outputs": [],
   "source": [
    "SEED = 420"
   ]
  },
  {
   "cell_type": "markdown",
   "metadata": {},
   "source": [
    "# Setup"
   ]
  },
  {
   "cell_type": "code",
   "execution_count": 100,
   "metadata": {},
   "outputs": [],
   "source": [
    "rng.seed(SEED)\n",
    "PS = PaintShop()"
   ]
  },
  {
   "cell_type": "markdown",
   "metadata": {},
   "source": [
    "# Classes"
   ]
  },
  {
   "cell_type": "markdown",
   "metadata": {},
   "source": [
    "Metaheuristics:\n",
    "- Multistart:  Improving multiple starts and take the best local optimum\n",
    "- Taboo Search: Reverse steps are forbidden (taboo-list). Tabu moves are removed from the list after a number of moves. Stop at a certain number of iterations OR when all available moves are taboo. Keep track of incumbent solution.\n",
    "- Simulated Annealing: Temperature & cooling schedule. Allways accepts improving moves. Non-improving moves with probablity based on the obj. improvement and temperature. Randomly choose a move, compute the gain. If it improves, accept, otherwise accept with probability e^(delta_obj / q). Update incumbent solution. Reduce temperature q. See graph in slides.\n",
    "- Genetic algorithms: Many different ideas. Population of solutions.\n",
    "   - Start with a number of random solutions.\n",
    "   - Create new solutions by combining pairs.\n",
    "   - Mutations sometimes.\n",
    "   - Select survivors (elite).\n",
    "\n"
   ]
  },
  {
   "cell_type": "markdown",
   "metadata": {},
   "source": [
    "# Solution"
   ]
  },
  {
   "cell_type": "code",
   "execution_count": 101,
   "metadata": {},
   "outputs": [],
   "source": [
    "def heuristic_constructive_simple() -> Schedule:\n",
    "    \"\"\"Constructs a solution according to the following heuristic:\n",
    "    1. Create an empty solution. (Empty lists (representing order-numbers) by machine-numbers in a dictionary)\n",
    "    2. Assign the order with the lowest order-number to the machine with the lowest amount of assigned orders, adding it to the end to the order-queue for that machine. The tiebreaking rule is that the machine with the lowest machine-number gets the order.\n",
    "    3. Go to step 2 unless all orders are assigned.\n",
    "    \n",
    "    Returns:\n",
    "        dict[int, list[int]]: The constructed solution. \n",
    "    \"\"\"\n",
    "    \n",
    "    \n",
    "    # Construct an empty solution dictionary.\n",
    "    schedule = Schedule()\n",
    "    \n",
    "    # For each order (ordered by order-number ascending).\n",
    "    for order_id in PS.order_ids:\n",
    "        \n",
    "        # Determine machine index with the shortest queue (adding a machine's index (scaled to a fraction) works like the tiebreaking rule).\n",
    "        machine_id_next = sorted(\n",
    "            PS.machine_ids, \n",
    "            key = lambda i:\n",
    "                len(schedule[i, :]) +\n",
    "                i / len(PS.machine_ids)\n",
    "        )[0]\n",
    "        \n",
    "        # Add order to machine queue.\n",
    "        schedule[machine_id_next, :] += [order_id]\n",
    "        \n",
    "    return schedule"
   ]
  },
  {
   "cell_type": "code",
   "execution_count": 102,
   "metadata": {},
   "outputs": [],
   "source": [
    "def heuristic_constructive_simple_2() -> Schedule:\n",
    "    \"\"\"Constructs a solution according to the following heuristic:\n",
    "    1. Create an empty solution. (Empty lists (representing order-numbers) by machine-numbers in a dictionary)\n",
    "    2. Assign the order with the lowest order-number to the machine with the lowest amount of assigned orders, adding it to the end to the order-queue for that machine. The tiebreaking rule is that the machine with the lowest machine-number gets the order.\n",
    "    3. Go to step 2 unless all orders are assigned.\n",
    "    \n",
    "    Returns:\n",
    "        dict[int, list[int]]: The constructed solution. \n",
    "    \"\"\"\n",
    "    \n",
    "    \n",
    "    # Construct an empty solution dictionary.\n",
    "    schedule = Schedule()\n",
    "    \n",
    "    # For each order (ordered by order-number ascending).\n",
    "    for order_id in PS.order_ids:\n",
    "        \n",
    "        # Determine machine index with the shortest queue (adding a machine's index (scaled to a fraction) works like the tiebreaking rule).\n",
    "        machine_id_next = sorted(\n",
    "            PS.machine_ids, \n",
    "            key = lambda i:\n",
    "                schedule.get_finish_time(i) + \n",
    "                i / len(PS.machine_ids), \n",
    "        )[0]\n",
    "        \n",
    "        # Add order to machine queue.\n",
    "        schedule[machine_id_next, :] += [order_id]\n",
    "        \n",
    "    return schedule"
   ]
  },
  {
   "cell_type": "code",
   "execution_count": 103,
   "metadata": {},
   "outputs": [],
   "source": [
    "def heuristic_constructive_simple_3() -> Schedule:\n",
    "    \"\"\"Constructs a solution according to the following heuristic:\n",
    "    1. Create an empty solution. (Empty lists (representing order-numbers) by machine-numbers in a dictionary)\n",
    "    2. Assign the order with the lowest order-number to the machine with the lowest amount of assigned orders, adding it to the end to the order-queue for that machine. The tiebreaking rule is that the machine with the lowest machine-number gets the order.\n",
    "    3. Go to step 2 unless all orders are assigned.\n",
    "    \n",
    "    Returns:\n",
    "        dict[int, list[int]]: The constructed solution. \n",
    "    \"\"\"\n",
    "    \n",
    "    \n",
    "    # Construct an empty solution dictionary.\n",
    "    schedule = Schedule()\n",
    "    \n",
    "    # For each order (ordered by order-number ascending).\n",
    "    for order_id in sorted(PS.order_ids, key = lambda order_id: PS.orders.loc[order_id, 'deadline']):\n",
    "        \n",
    "        # Determine machine index with the shortest queue (adding a machine's index (scaled to a fraction) works like the tiebreaking rule).\n",
    "        machine_id_next = sorted(\n",
    "            PS.machine_ids, \n",
    "            key = lambda i:\n",
    "                schedule.get_finish_time(i) + \n",
    "                i / len(PS.machine_ids), \n",
    "        )[0]\n",
    "        \n",
    "        # Add order to machine queue.\n",
    "        schedule[machine_id_next, :] += [order_id]\n",
    "        \n",
    "    return schedule"
   ]
  },
  {
   "cell_type": "code",
   "execution_count": 104,
   "metadata": {},
   "outputs": [],
   "source": [
    "def heuristic_constructive_random() -> Schedule:\n",
    "    \"\"\"Constructs a solution according to the following heuristic:\n",
    "    1. Create an empty solution. (Empty lists (representing order-numbers) by machine-numbers in a dictionary)\n",
    "    2. Assign the order with the lowest order-number to the machine with the lowest amount of assigned orders, adding it to the end to the order-queue for that machine. The tiebreaking rule is that the machine with the lowest machine-number gets the order.\n",
    "    3. Go to step 2 unless all orders are assigned.\n",
    "    \n",
    "    Returns:\n",
    "        dict[int, list[int]]: The constructed solution. \n",
    "    \"\"\"\n",
    "    \n",
    "    \n",
    "    # Construct an empty solution dictionary.\n",
    "    schedule = Schedule()\n",
    "    \n",
    "    # Create list of shuffled order ID's\n",
    "    order_ids_remaining = PS.order_ids\n",
    "    rng.shuffle(order_ids_remaining)\n",
    "    \n",
    "    while len(order_ids_remaining) > 0:\n",
    "        \n",
    "        next_order_id_index = rng.choice(range(len(order_ids_remaining)))\n",
    "        \n",
    "        schedule[rng.choice(PS.machine_ids), :] += [order_ids_remaining[next_order_id_index]]\n",
    "        \n",
    "        order_ids_remaining = np.delete(order_ids_remaining, next_order_id_index)      \n",
    "    return schedule"
   ]
  },
  {
   "cell_type": "code",
   "execution_count": 105,
   "metadata": {},
   "outputs": [],
   "source": [
    "import math\n",
    "\n",
    "\n",
    "def heuristic_improvement_best(initial: Schedule) -> Schedule:\n",
    "    \n",
    "    current_schedule = initial\n",
    "    \n",
    "    print(f\"Initial:\")\n",
    "    print(str(current_schedule) + \"\\n\")\n",
    "    \n",
    "    while True:\n",
    "    \n",
    "        best_swap = None\n",
    "        best_swap_cost = initial.get_cost()\n",
    "        \n",
    "        for swap in current_schedule.get_swaps():\n",
    "            swapped_schedule: Schedule = current_schedule.get_copy(swap)\n",
    "            swapped_cost = swapped_schedule.get_cost()\n",
    "            \n",
    "            # print(f\"Swap: {swap}, Cost: {swapped_cost}\")\n",
    "            \n",
    "            if (swapped_cost < best_swap_cost):\n",
    "                best_swap = swap\n",
    "                best_swap_cost = swapped_cost\n",
    "        \n",
    "        # Break the loop if no improving swap was found.\n",
    "        if best_swap == None:\n",
    "            break\n",
    "        \n",
    "        current_schedule.swap(best_swap)\n",
    "        print(f\"Swapped: {best_swap}.\")\n",
    "        print(str(current_schedule) + \"\\n\")\n",
    "        \n",
    "    return current_schedule"
   ]
  },
  {
   "cell_type": "code",
   "execution_count": 106,
   "metadata": {},
   "outputs": [],
   "source": [
    "def heuristic_improvement_first(initial: Schedule) -> Schedule:\n",
    "    \n",
    "    current_schedule = initial\n",
    "    \n",
    "    print(f\"Initial:\")\n",
    "    print(str(current_schedule) + \"\\n\")\n",
    "    \n",
    "    while True:\n",
    "    \n",
    "        first_improvement = None\n",
    "        initial_swap_cost = initial.get_cost()\n",
    "        \n",
    "        for swap in current_schedule.get_swaps():\n",
    "            swapped_schedule: Schedule = current_schedule.get_copy(swap)\n",
    "            swapped_cost = swapped_schedule.get_cost()\n",
    "            \n",
    "            # print(f\"Swap: {swap}, Cost: {swapped_cost}\")\n",
    "            # \n",
    "            if (swapped_cost < initial_swap_cost):\n",
    "                first_improvement = swap\n",
    "                break\n",
    "        \n",
    "        # Break the loop if no improving swap was found.\n",
    "        if first_improvement == None:\n",
    "            break\n",
    "        \n",
    "        current_schedule.swap(first_improvement)\n",
    "        print(f\"Swapped: {first_improvement}.\")\n",
    "        print(str(current_schedule) + \"\\n\")\n",
    "        \n",
    "    return current_schedule"
   ]
  },
  {
   "cell_type": "code",
   "execution_count": 107,
   "metadata": {},
   "outputs": [],
   "source": [
    "# heuristic_improvement_best(heuristic_constructive_simple()).draw()\n",
    "# heuristic_constructive_simple().draw()"
   ]
  },
  {
   "cell_type": "code",
   "execution_count": 108,
   "metadata": {},
   "outputs": [
    {
     "name": "stdout",
     "output_type": "stream",
     "text": [
      "Cost: \t1414.11\n",
      "M1: [0, 3, 6, 9, 12, 15, 18, 21, 24, 27] (565.00) (10)\n",
      "M2: [1, 4, 7, 10, 13, 16, 19, 22, 25, 28] (222.00) (10)\n",
      "M3: [2, 5, 8, 11, 14, 17, 20, 23, 26, 29] (627.11) (10)\n",
      "\n",
      "Cost: \t2815.77\n",
      "M1: [0, 3, 7, 12, 14, 17, 20, 22, 25, 29] (760.50) (10)\n",
      "M2: [1, 4, 6, 9, 10, 13, 15, 19, 21, 24, 26, 28] (1440.60) (12)\n",
      "M3: [2, 5, 8, 11, 16, 18, 23, 27] (614.67) (8)\n",
      "\n",
      "Cost: \t4181.39\n",
      "M1: [2, 10, 6, 7, 13, 19, 18, 16, 28, 23] (1632.50) (10)\n",
      "M2: [3, 11, 8, 4, 12, 15, 14, 26, 25, 21, 29] (1445.00) (11)\n",
      "M3: [0, 1, 5, 9, 24, 20, 17, 27, 22] (1103.89) (9)\n",
      "\n",
      "Cost: \t8345.60\n",
      "M1: [3, 12, 23, 21, 7, 22, 0, 16, 19, 9, 8] (3221.00) (11)\n",
      "M2: [6, 26, 5, 20, 18, 17, 2, 14, 11, 29, 15, 10, 24] (4484.60) (13)\n",
      "M3: [28, 27, 4, 25, 1, 13] (640.00) (6)\n"
     ]
    }
   ],
   "source": [
    "print('\\n\\n'.join([\n",
    "    f\"{schedule}\" for heuristic, schedule in {\n",
    "        \"constructive_simple\": heuristic_constructive_simple(),\n",
    "        \"constructive_simple_2\": heuristic_constructive_simple_2(),\n",
    "        \"constructive_simple_3\": heuristic_constructive_simple_3(),\n",
    "        \"constructive_random\": heuristic_constructive_random()\n",
    "    }.items()\n",
    "]))"
   ]
  },
  {
   "cell_type": "markdown",
   "metadata": {},
   "source": [
    "### Move\n",
    "This abstract base class (ABC) and it's subclasses handle the move operations. The static method 'get_moves' of 'Move' can be called to get a list of every possible move on a given schedule. The subclasses handle the different operations involved. The 'Move' class is the interface."
   ]
  },
  {
   "cell_type": "code",
   "execution_count": null,
   "metadata": {},
   "outputs": [],
   "source": []
  },
  {
   "cell_type": "markdown",
   "metadata": {},
   "source": [
    "# Code Validation"
   ]
  },
  {
   "cell_type": "code",
   "execution_count": 109,
   "metadata": {},
   "outputs": [
    {
     "name": "stdout",
     "output_type": "stream",
     "text": [
      "Cost: \t9301.79\n",
      "M1: [26, 13, 11, 1, 27, 25, 24, 2, 20, 4] (3434.50) (10)\n",
      "M2: [15, 28, 3, 23, 17, 22, 9, 16, 10] (1865.40) (9)\n",
      "M3: [19, 29, 6, 21, 12, 5, 14, 7, 18, 8, 0] (4001.89) (11)\n"
     ]
    },
    {
     "ename": "NameError",
     "evalue": "name 'PS' is not defined",
     "output_type": "error",
     "traceback": [
      "\u001b[1;31m---------------------------------------------------------------------------\u001b[0m",
      "\u001b[1;31mNameError\u001b[0m                                 Traceback (most recent call last)",
      "Cell \u001b[1;32mIn[109], line 5\u001b[0m\n\u001b[0;32m      2\u001b[0m s \u001b[38;5;241m=\u001b[39m heuristic_constructive_random()\n\u001b[0;32m      3\u001b[0m \u001b[38;5;28mprint\u001b[39m(s)\n\u001b[1;32m----> 5\u001b[0m moves: \u001b[38;5;28mlist\u001b[39m[Move] \u001b[38;5;241m=\u001b[39m Move\u001b[38;5;241m.\u001b[39mget_moves(s)\n\u001b[0;32m      6\u001b[0m \u001b[38;5;28mprint\u001b[39m(\u001b[38;5;124mf\u001b[39m\u001b[38;5;124m'\u001b[39m\u001b[38;5;130;01m\\n\u001b[39;00m\u001b[38;5;124mAmount of moves: \u001b[39m\u001b[38;5;132;01m{\u001b[39;00m\u001b[38;5;28mlen\u001b[39m(moves)\u001b[38;5;132;01m}\u001b[39;00m\u001b[38;5;124m'\u001b[39m)\n\u001b[0;32m      8\u001b[0m \u001b[38;5;28mprint\u001b[39m(\u001b[38;5;124mf\u001b[39m\u001b[38;5;124m\"\u001b[39m\u001b[38;5;130;01m\\n\u001b[39;00m\u001b[38;5;124mMoves that produce the same schedule: \u001b[39m\u001b[38;5;132;01m{\u001b[39;00m\u001b[38;5;28msum\u001b[39m([(s\u001b[38;5;250m \u001b[39m\u001b[38;5;241m==\u001b[39m\u001b[38;5;250m \u001b[39mmove\u001b[38;5;241m.\u001b[39mget_moved(s))\u001b[38;5;250m \u001b[39m\u001b[38;5;28;01mfor\u001b[39;00m\u001b[38;5;250m \u001b[39mmove\u001b[38;5;250m \u001b[39m\u001b[38;5;129;01min\u001b[39;00m\u001b[38;5;250m \u001b[39mmoves])\u001b[38;5;132;01m}\u001b[39;00m\u001b[38;5;124m\"\u001b[39m)\n",
      "File \u001b[1;32md:\\OneDrive - Office 365 Fontys\\AM2\\OR5\\Paint Shop\\OR5-paintshop\\move.py:21\u001b[0m, in \u001b[0;36mMove.get_moves\u001b[1;34m(schedule)\u001b[0m\n\u001b[0;32m     16\u001b[0m \u001b[38;5;129m@staticmethod\u001b[39m\n\u001b[0;32m     17\u001b[0m \u001b[38;5;66;03m# @abstractmethod\u001b[39;00m\n\u001b[0;32m     18\u001b[0m \u001b[38;5;28;01mdef\u001b[39;00m \u001b[38;5;21mget_moves\u001b[39m(schedule: Schedule): \u001b[38;5;66;03m# -> list[Move]\u001b[39;00m\n\u001b[0;32m     20\u001b[0m     \u001b[38;5;28;01mreturn\u001b[39;00m [\n\u001b[1;32m---> 21\u001b[0m         \u001b[38;5;241m*\u001b[39mSwapMove\u001b[38;5;241m.\u001b[39mget_moves(schedule),\n\u001b[0;32m     22\u001b[0m         \u001b[38;5;241m*\u001b[39mMoveMove\u001b[38;5;241m.\u001b[39mget_moves(schedule),\n\u001b[0;32m     23\u001b[0m         \u001b[38;5;241m*\u001b[39mSwapQueuesMove\u001b[38;5;241m.\u001b[39mget_moves(schedule)\n\u001b[0;32m     24\u001b[0m     ]\n",
      "File \u001b[1;32md:\\OneDrive - Office 365 Fontys\\AM2\\OR5\\Paint Shop\\OR5-paintshop\\move.py:58\u001b[0m, in \u001b[0;36mSwapMove.get_moves\u001b[1;34m(schedule)\u001b[0m\n\u001b[0;32m     52\u001b[0m \u001b[38;5;129m@staticmethod\u001b[39m\n\u001b[0;32m     53\u001b[0m \u001b[38;5;28;01mdef\u001b[39;00m \u001b[38;5;21mget_moves\u001b[39m(schedule: Schedule):\n\u001b[0;32m     54\u001b[0m     \n\u001b[0;32m     55\u001b[0m     \u001b[38;5;66;03m# Get all queue-indices of the orders.\u001b[39;00m\n\u001b[0;32m     56\u001b[0m     order_indices \u001b[38;5;241m=\u001b[39m [\n\u001b[0;32m     57\u001b[0m         (machine_id, queue_index) \n\u001b[1;32m---> 58\u001b[0m         \u001b[38;5;28;01mfor\u001b[39;00m machine_id \u001b[38;5;129;01min\u001b[39;00m PS\u001b[38;5;241m.\u001b[39mmachine_ids \u001b[38;5;28;01mfor\u001b[39;00m queue_index \u001b[38;5;129;01min\u001b[39;00m \u001b[38;5;28mrange\u001b[39m(\u001b[38;5;28mlen\u001b[39m(schedule[machine_id, :]))\n\u001b[0;32m     59\u001b[0m     ]\n\u001b[0;32m     61\u001b[0m     \u001b[38;5;66;03m# Return all combinations of length 2.\u001b[39;00m\n\u001b[0;32m     62\u001b[0m     \u001b[38;5;28;01mreturn\u001b[39;00m [\n\u001b[0;32m     63\u001b[0m         SwapMove(swap) \u001b[38;5;28;01mfor\u001b[39;00m swap \u001b[38;5;129;01min\u001b[39;00m \u001b[38;5;28mlist\u001b[39m(\u001b[38;5;28miter\u001b[39m\u001b[38;5;241m.\u001b[39mcombinations(order_indices, \u001b[38;5;241m2\u001b[39m))\n\u001b[0;32m     64\u001b[0m     ]\n",
      "\u001b[1;31mNameError\u001b[0m: name 'PS' is not defined"
     ]
    }
   ],
   "source": [
    "# Ensure all moves produce a schedule that is different from the one we started with.\n",
    "s = heuristic_constructive_random()\n",
    "print(s)\n",
    "\n",
    "moves: list[Move] = Move.get_moves(s)\n",
    "print(f'\\nAmount of moves: {len(moves)}')\n",
    "\n",
    "print(f\"\\nMoves that produce the same schedule: {sum([(s == move.get_moved(s)) for move in moves])}\")"
   ]
  }
 ],
 "metadata": {
  "kernelspec": {
   "display_name": "Python 3 (ipykernel)",
   "language": "python",
   "name": "python3"
  },
  "language_info": {
   "codemirror_mode": {
    "name": "ipython",
    "version": 3
   },
   "file_extension": ".py",
   "mimetype": "text/x-python",
   "name": "python",
   "nbconvert_exporter": "python",
   "pygments_lexer": "ipython3",
   "version": "3.11.5"
  }
 },
 "nbformat": 4,
 "nbformat_minor": 2
}
