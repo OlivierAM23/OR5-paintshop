{
 "cells": [
  {
   "cell_type": "code",
   "execution_count": null,
   "metadata": {},
   "outputs": [],
   "source": []
  },
  {
   "cell_type": "code",
   "execution_count": 1,
   "metadata": {},
   "outputs": [],
   "source": [
    "#all 30 items are present without duplicates\n",
    "#at any point t on all three machines there should either be a single order, a cleaning moment or nothing\n",
    "def to_red(string: str) -> str:\n",
    "    return f\"\\x1b[31m{string}\\x1b[0m\""
   ]
  },
  {
   "cell_type": "code",
   "execution_count": 28,
   "metadata": {},
   "outputs": [
    {
     "name": "stdout",
     "output_type": "stream",
     "text": [
      "\u001b[47mjust try and read this you idiot\u001b[0m\n"
     ]
    }
   ],
   "source": [
    "print(\"\\x1b[47mjust try and read this you idiot\\x1b[0m\")"
   ]
  }
 ],
 "metadata": {
  "kernelspec": {
   "display_name": "base",
   "language": "python",
   "name": "python3"
  },
  "language_info": {
   "codemirror_mode": {
    "name": "ipython",
    "version": 3
   },
   "file_extension": ".py",
   "mimetype": "text/x-python",
   "name": "python",
   "nbconvert_exporter": "python",
   "pygments_lexer": "ipython3",
   "version": "3.12.4"
  }
 },
 "nbformat": 4,
 "nbformat_minor": 2
}
