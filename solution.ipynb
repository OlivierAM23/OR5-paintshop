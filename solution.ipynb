{
 "cells": [
  {
   "cell_type": "code",
   "execution_count": 2,
   "metadata": {},
   "outputs": [],
   "source": [
    "import pandas as pd\n",
    "import numpy as np\n",
    "import random as rng\n",
    "from schedule import Schedule\n",
    "from paintshop import PaintShop"
   ]
  },
  {
   "cell_type": "markdown",
   "metadata": {},
   "source": [
    "# Settings"
   ]
  },
  {
   "cell_type": "code",
   "execution_count": 2,
   "metadata": {},
   "outputs": [],
   "source": [
    "SEED = 420"
   ]
  },
  {
   "cell_type": "markdown",
   "metadata": {},
   "source": [
    "# Setup"
   ]
  },
  {
   "cell_type": "code",
   "execution_count": null,
   "metadata": {},
   "outputs": [],
   "source": [
    "rng.seed(SEED)\n",
    "PS = PaintShop()"
   ]
  },
  {
   "cell_type": "markdown",
   "metadata": {},
   "source": [
    "# Classes"
   ]
  },
  {
   "cell_type": "markdown",
   "metadata": {},
   "source": [
    "Metaheuristics:\n",
    "- Multistart:  Improving multiple starts and take the best local optimum\n",
    "- Taboo Search: Reverse steps are forbidden (taboo-list). Tabu moves are removed from the list after a number of moves. Stop at a certain number of iterations OR when all available moves are taboo. Keep track of incumbent solution.\n",
    "- Simulated Annealing: Temperature & cooling schedule. Allways accepts improving moves. Non-improving moves with probablity based on the obj. improvement and temperature. Randomly choose a move, compute the gain. If it improves, accept, otherwise accept with probability e^(delta_obj / q). Update incumbent solution. Reduce temperature q. See graph in slides.\n",
    "- Genetic algorithms: Many different ideas. Population of solutions.\n",
    " - Start with a number of random solutions.\n",
    " - Create new solutions by combining pairs.\n",
    " - Mutations sometimes.\n",
    " - Select survivors (elite).\n",
    "\n"
   ]
  },
  {
   "cell_type": "markdown",
   "metadata": {},
   "source": [
    "# Solution"
   ]
  },
  {
   "cell_type": "code",
   "execution_count": 40,
   "metadata": {},
   "outputs": [],
   "source": [
    "def heuristic_constructive_simple() -> Schedule:\n",
    "    \"\"\"Constructs a solution according to the following heuristic:\n",
    "    1. Create an empty solution. (Empty lists (representing order-numbers) by machine-numbers in a dictionary)\n",
    "    2. Assign the order with the lowest order-number to the machine with the lowest amount of assigned orders, adding it to the end to the order-queue for that machine. The tiebreaking rule is that the machine with the lowest machine-number gets the order.\n",
    "    3. Go to step 2 unless all orders are assigned.\n",
    "    \n",
    "    Returns:\n",
    "        dict[int, list[int]]: The constructed solution. \n",
    "    \"\"\"\n",
    "    \n",
    "    \n",
    "    # Construct an empty solution dictionary.\n",
    "    schedule = Schedule()\n",
    "    \n",
    "    # For each order (ordered by order-number ascending).\n",
    "    for order_id in PS.order_ids:\n",
    "        \n",
    "        # Determine machine index with the shortest queue (adding a machine's index (scaled to a fraction) works like the tiebreaking rule).\n",
    "        machine_id_next = sorted(\n",
    "            PS.machine_ids, \n",
    "            key = lambda i:\n",
    "                len(schedule[i, :]) +\n",
    "                i / len(PS.machine_ids)\n",
    "        )[0]\n",
    "        \n",
    "        # Add order to machine queue.\n",
    "        schedule[machine_id_next, :] += [order_id]\n",
    "        \n",
    "    return schedule"
   ]
  },
  {
   "cell_type": "code",
   "execution_count": 45,
   "metadata": {},
   "outputs": [],
   "source": [
    "def heuristic_constructive_simple_2() -> Schedule:\n",
    "    \"\"\"Constructs a solution according to the following heuristic:\n",
    "    1. Create an empty solution. (Empty lists (representing order-numbers) by machine-numbers in a dictionary)\n",
    "    2. Assign the order with the lowest order-number to the machine with the lowest amount of assigned orders, adding it to the end to the order-queue for that machine. The tiebreaking rule is that the machine with the lowest machine-number gets the order.\n",
    "    3. Go to step 2 unless all orders are assigned.\n",
    "    \n",
    "    Returns:\n",
    "        dict[int, list[int]]: The constructed solution. \n",
    "    \"\"\"\n",
    "    \n",
    "    \n",
    "    # Construct an empty solution dictionary.\n",
    "    schedule = Schedule()\n",
    "    \n",
    "    # For each order (ordered by order-number ascending).\n",
    "    for order_id in PS.order_ids:\n",
    "        \n",
    "        # Determine machine index with the shortest queue (adding a machine's index (scaled to a fraction) works like the tiebreaking rule).\n",
    "        machine_id_next = sorted(\n",
    "            PS.machine_ids, \n",
    "            key = lambda i:\n",
    "                schedule.get_finish_time(i) + \n",
    "                i / len(PS.machine_ids), \n",
    "        )[0]\n",
    "        \n",
    "        # Add order to machine queue.\n",
    "        schedule[machine_id_next] += [order_id]\n",
    "        \n",
    "    return schedule"
   ]
  },
  {
   "cell_type": "code",
   "execution_count": 46,
   "metadata": {},
   "outputs": [],
   "source": [
    "def heuristic_constructive_simple_3() -> Schedule:\n",
    "    \"\"\"Constructs a solution according to the following heuristic:\n",
    "    1. Create an empty solution. (Empty lists (representing order-numbers) by machine-numbers in a dictionary)\n",
    "    2. Assign the order with the lowest order-number to the machine with the lowest amount of assigned orders, adding it to the end to the order-queue for that machine. The tiebreaking rule is that the machine with the lowest machine-number gets the order.\n",
    "    3. Go to step 2 unless all orders are assigned.\n",
    "    \n",
    "    Returns:\n",
    "        dict[int, list[int]]: The constructed solution. \n",
    "    \"\"\"\n",
    "    \n",
    "    \n",
    "    # Construct an empty solution dictionary.\n",
    "    schedule = Schedule()\n",
    "    \n",
    "    # For each order (ordered by order-number ascending).\n",
    "    for order_id in sorted(PS.order_ids, key = lambda order_id: PS.orders.loc[order_id, 'deadline']):\n",
    "        \n",
    "        # Determine machine index with the shortest queue (adding a machine's index (scaled to a fraction) works like the tiebreaking rule).\n",
    "        machine_id_next = sorted(\n",
    "            PS.machine_ids, \n",
    "            key = lambda i:\n",
    "                schedule.get_finish_time(i) + \n",
    "                i / len(PS.machine_ids), \n",
    "        )[0]\n",
    "        \n",
    "        # Add order to machine queue.\n",
    "        schedule[machine_id_next] += [order_id]\n",
    "        \n",
    "    return schedule"
   ]
  },
  {
   "cell_type": "code",
   "execution_count": 47,
   "metadata": {},
   "outputs": [],
   "source": [
    "def heuristic_constructive_random() -> Schedule:\n",
    "    \"\"\"Constructs a solution according to the following heuristic:\n",
    "    1. Create an empty solution. (Empty lists (representing order-numbers) by machine-numbers in a dictionary)\n",
    "    2. Assign the order with the lowest order-number to the machine with the lowest amount of assigned orders, adding it to the end to the order-queue for that machine. The tiebreaking rule is that the machine with the lowest machine-number gets the order.\n",
    "    3. Go to step 2 unless all orders are assigned.\n",
    "    \n",
    "    Returns:\n",
    "        dict[int, list[int]]: The constructed solution. \n",
    "    \"\"\"\n",
    "    \n",
    "    \n",
    "    # Construct an empty solution dictionary.\n",
    "    schedule = Schedule()\n",
    "    \n",
    "    # Create list of shuffled order ID's\n",
    "    order_ids_remaining = PS.order_ids\n",
    "    rng.shuffle(order_ids_remaining)\n",
    "    \n",
    "    while len(order_ids_remaining) > 0:\n",
    "        \n",
    "        next_order_id_index = rng.choice(range(len(order_ids_remaining)))\n",
    "        \n",
    "        schedule[rng.choice(PS.machine_ids)] += [order_ids_remaining[next_order_id_index]]\n",
    "        \n",
    "        order_ids_remaining = np.delete(order_ids_remaining, next_order_id_index)      \n",
    "    return schedule"
   ]
  },
  {
   "cell_type": "code",
   "execution_count": 48,
   "metadata": {},
   "outputs": [],
   "source": [
    "import math\n",
    "\n",
    "\n",
    "def heuristic_improvement_best(initial: Schedule) -> Schedule:\n",
    "    \n",
    "    current_schedule = initial\n",
    "    \n",
    "    print(f\"Initial:\")\n",
    "    print(str(current_schedule) + \"\\n\")\n",
    "    \n",
    "    while True:\n",
    "    \n",
    "        best_swap = None\n",
    "        best_swap_cost = initial.get_cost()\n",
    "        \n",
    "        for swap in current_schedule.get_swaps():\n",
    "            swapped_schedule: Schedule = current_schedule.get_copy(swap)\n",
    "            swapped_cost = swapped_schedule.get_cost()\n",
    "            \n",
    "            # print(f\"Swap: {swap}, Cost: {swapped_cost}\")\n",
    "            \n",
    "            if (swapped_cost < best_swap_cost):\n",
    "                best_swap = swap\n",
    "                best_swap_cost = swapped_cost\n",
    "        \n",
    "        # Break the loop if no improving swap was found.\n",
    "        if best_swap == None:\n",
    "            break\n",
    "        \n",
    "        current_schedule.swap(best_swap)\n",
    "        print(f\"Swapped: {best_swap}.\")\n",
    "        print(str(current_schedule) + \"\\n\")\n",
    "        \n",
    "    return current_schedule"
   ]
  },
  {
   "cell_type": "code",
   "execution_count": 49,
   "metadata": {},
   "outputs": [],
   "source": [
    "def heuristic_improvement_first(initial: Schedule) -> Schedule:\n",
    "    \n",
    "    current_schedule = initial\n",
    "    \n",
    "    print(f\"Initial:\")\n",
    "    print(str(current_schedule) + \"\\n\")\n",
    "    \n",
    "    while True:\n",
    "    \n",
    "        first_improvement = None\n",
    "        initial_swap_cost = initial.get_cost()\n",
    "        \n",
    "        for swap in current_schedule.get_swaps():\n",
    "            swapped_schedule: Schedule = current_schedule.get_copy(swap)\n",
    "            swapped_cost = swapped_schedule.get_cost()\n",
    "            \n",
    "            # print(f\"Swap: {swap}, Cost: {swapped_cost}\")\n",
    "            # \n",
    "            if (swapped_cost < initial_swap_cost):\n",
    "                first_improvement = swap\n",
    "                break\n",
    "        \n",
    "        # Break the loop if no improving swap was found.\n",
    "        if first_improvement == None:\n",
    "            break\n",
    "        \n",
    "        current_schedule.swap(first_improvement)\n",
    "        print(f\"Swapped: {first_improvement}.\")\n",
    "        print(str(current_schedule) + \"\\n\")\n",
    "        \n",
    "    return current_schedule"
   ]
  },
  {
   "cell_type": "code",
   "execution_count": 50,
   "metadata": {},
   "outputs": [],
   "source": [
    "# heuristic_improvement_best(heuristic_constructive_simple()).draw()\n",
    "# heuristic_constructive_simple().draw()"
   ]
  },
  {
   "cell_type": "code",
   "execution_count": null,
   "metadata": {},
   "outputs": [],
   "source": [
    "print('\\n\\n'.join([\n",
    "    f\"{schedule}\" for heuristic, schedule in {\n",
    "        \"constructive_simple\": heuristic_constructive_simple(),\n",
    "        \"constructive_simple_2\": heuristic_constructive_simple_2(),\n",
    "        \"constructive_simple_3\": heuristic_constructive_simple_3(),\n",
    "        \"constructive_random\": heuristic_constructive_random()\n",
    "    }.items()\n",
    "]))"
   ]
  },
  {
   "cell_type": "code",
   "execution_count": null,
   "metadata": {},
   "outputs": [],
   "source": []
  },
  {
   "cell_type": "code",
   "execution_count": 52,
   "metadata": {},
   "outputs": [],
   "source": [
    "# import matplotlib.pyplot as plt\n",
    "\n",
    "# plt.hist([s.get_cost() for s in random_schedules], bins = 30)\n",
    "# plt.show()"
   ]
  },
  {
   "cell_type": "code",
   "execution_count": 53,
   "metadata": {},
   "outputs": [],
   "source": [
    "import itertools as iter\n",
    "\n",
    "sol = heuristic_constructive_simple()\n",
    "\n",
    "# Gett"
   ]
  },
  {
   "cell_type": "code",
   "execution_count": null,
   "metadata": {},
   "outputs": [],
   "source": [
    "a = heuristic_constructive_simple()\n",
    "a.get_copy(((0,1), (1,6)))"
   ]
  }
 ],
 "metadata": {
  "kernelspec": {
   "display_name": "Python 3 (ipykernel)",
   "language": "python",
   "name": "python3"
  },
  "language_info": {
   "codemirror_mode": {
    "name": "ipython",
    "version": 3
   },
   "file_extension": ".py",
   "mimetype": "text/x-python",
   "name": "python",
   "nbconvert_exporter": "python",
   "pygments_lexer": "ipython3",
   "version": "3.11.5"
  }
 },
 "nbformat": 4,
 "nbformat_minor": 2
}
