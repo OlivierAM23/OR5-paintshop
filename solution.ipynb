{
 "cells": [
  {
   "cell_type": "code",
   "execution_count": 1,
   "metadata": {},
   "outputs": [
    {
     "name": "stdout",
     "output_type": "stream",
     "text": [
      "       0   1   2   3   4   5   6   7   8   9  10   8777.53\n",
      "M1: [ \u001b[32m18\u001b[0m  \u001b[32m14\u001b[0m  \u001b[31m 2\u001b[0m  \u001b[32m28\u001b[0m  \u001b[31m10\u001b[0m  \u001b[31m13\u001b[0m  \u001b[31m12\u001b[0m  \u001b[31m24\u001b[0m  \u001b[31m23\u001b[0m  \u001b[31m29\u001b[0m     ] 2575.00 (29%)\n",
      "M2: [ \u001b[32m21\u001b[0m  \u001b[32m 7\u001b[0m  \u001b[32m16\u001b[0m  \u001b[31m 3\u001b[0m  \u001b[31m 5\u001b[0m  \u001b[32m17\u001b[0m  \u001b[31m 1\u001b[0m  \u001b[31m 6\u001b[0m  \u001b[31m26\u001b[0m         ] 2101.20 (24%)\n",
      "M3: [ \u001b[32m11\u001b[0m  \u001b[32m27\u001b[0m  \u001b[31m 8\u001b[0m  \u001b[31m 4\u001b[0m  \u001b[32m22\u001b[0m  \u001b[31m15\u001b[0m  \u001b[31m 0\u001b[0m  \u001b[31m19\u001b[0m  \u001b[31m 9\u001b[0m  \u001b[31m20\u001b[0m  \u001b[31m25\u001b[0m ] 4101.33 (47%)\n"
     ]
    }
   ],
   "source": [
    "import pandas as pd\n",
    "import numpy as np\n",
    "import random as rng\n",
    "\n",
    "from schedule import Schedule\n",
    "from paintshop import PaintShop\n",
    "from move import Move\n",
    "\n",
    "\n",
    "# DEBUG (reload import)\n",
    "from importlib import reload\n",
    "import paintshop\n",
    "import move\n",
    "reload(paintshop)\n",
    "reload(move)\n",
    "from paintshop import PaintShop\n",
    "from move import Move"
   ]
  },
  {
   "cell_type": "markdown",
   "metadata": {},
   "source": [
    "# Settings"
   ]
  },
  {
   "cell_type": "code",
   "execution_count": 2,
   "metadata": {},
   "outputs": [],
   "source": [
    "SEED = 420"
   ]
  },
  {
   "cell_type": "markdown",
   "metadata": {},
   "source": [
    "# Setup"
   ]
  },
  {
   "cell_type": "code",
   "execution_count": 3,
   "metadata": {},
   "outputs": [],
   "source": [
    "rng.seed(SEED)\n",
    "PS = PaintShop()"
   ]
  },
  {
   "cell_type": "markdown",
   "metadata": {},
   "source": [
    "# Classes"
   ]
  },
  {
   "cell_type": "markdown",
   "metadata": {},
   "source": [
    "Metaheuristics:\n",
    "- Multistart:  Improving multiple starts and take the best local optimum\n",
    "- Taboo Search: Reverse steps are forbidden (taboo-list). Tabu moves are removed from the list after a number of moves. Stop at a certain number of iterations OR when all available moves are taboo. Keep track of incumbent solution.\n",
    "- Simulated Annealing: Temperature & cooling schedule. Allways accepts improving moves. Non-improving moves with probablity based on the obj. improvement and temperature. Randomly choose a move, compute the gain. If it improves, accept, otherwise accept with probability e^(delta_obj / q). Update incumbent solution. Reduce temperature q. See graph in slides.\n",
    "- Genetic algorithms: Many different ideas. Population of solutions.\n",
    "   - Start with a number of random solutions.\n",
    "   - Create new solutions by combining pairs.\n",
    "   - Mutations sometimes.\n",
    "   - Select survivors (elite).\n",
    "\n"
   ]
  },
  {
   "cell_type": "markdown",
   "metadata": {},
   "source": [
    "# Solution"
   ]
  },
  {
   "cell_type": "code",
   "execution_count": 4,
   "metadata": {},
   "outputs": [],
   "source": [
    "def heuristic_constructive_simple() -> Schedule:\n",
    "    \"\"\"Constructs a solution according to the following heuristic:\n",
    "    1. Create an empty solution. (Empty lists (representing order-numbers) by machine-numbers in a dictionary)\n",
    "    2. Assign the order with the lowest order-number to the machine with the lowest amount of assigned orders, adding it to the end to the order-queue for that machine. The tiebreaking rule is that the machine with the lowest machine-number gets the order.\n",
    "    3. Go to step 2 unless all orders are assigned.\n",
    "    \n",
    "    Returns:\n",
    "        dict[int, list[int]]: The constructed solution. \n",
    "    \"\"\"\n",
    "    \n",
    "    \n",
    "    # Construct an empty solution dictionary.\n",
    "    schedule = Schedule()\n",
    "    \n",
    "    # For each order (ordered by order-number ascending).\n",
    "    for order_id in PS.order_ids:\n",
    "        \n",
    "        # Determine machine index with the shortest queue (adding a machine's index (scaled to a fraction) works like the tiebreaking rule).\n",
    "        machine_id_next = sorted(\n",
    "            PS.machine_ids, \n",
    "            key = lambda i:\n",
    "                len(schedule[i, :]) +\n",
    "                i / len(PS.machine_ids)\n",
    "        )[0]\n",
    "        \n",
    "        # Add order to machine queue.\n",
    "        schedule[machine_id_next, :] += [order_id]\n",
    "        \n",
    "    return schedule"
   ]
  },
  {
   "cell_type": "code",
   "execution_count": 5,
   "metadata": {},
   "outputs": [],
   "source": [
    "def heuristic_constructive_simple_2() -> Schedule:\n",
    "    \"\"\"Constructs a solution according to the following heuristic:\n",
    "    1. Create an empty solution. (Empty lists (representing order-numbers) by machine-numbers in a dictionary)\n",
    "    2. Assign the order with the lowest order-number to the machine with the lowest amount of assigned orders, adding it to the end to the order-queue for that machine. The tiebreaking rule is that the machine with the lowest machine-number gets the order.\n",
    "    3. Go to step 2 unless all orders are assigned.\n",
    "    \n",
    "    Returns:\n",
    "        dict[int, list[int]]: The constructed solution. \n",
    "    \"\"\"\n",
    "    \n",
    "    \n",
    "    # Construct an empty solution dictionary.\n",
    "    schedule = Schedule()\n",
    "    \n",
    "    # For each order (ordered by order-number ascending).\n",
    "    for order_id in PS.order_ids:\n",
    "        \n",
    "        # Determine machine index with the shortest queue (adding a machine's index (scaled to a fraction) works like the tiebreaking rule).\n",
    "        machine_id_next = sorted(\n",
    "            PS.machine_ids, \n",
    "            key = lambda i:\n",
    "                schedule.get_finish_time(i) + \n",
    "                i / len(PS.machine_ids), \n",
    "        )[0]\n",
    "        \n",
    "        # Add order to machine queue.\n",
    "        schedule[machine_id_next, :] += [order_id]\n",
    "        \n",
    "    return schedule"
   ]
  },
  {
   "cell_type": "code",
   "execution_count": 6,
   "metadata": {},
   "outputs": [],
   "source": [
    "\n",
    "def heuristic_constructive_simple_3() -> Schedule:\n",
    "    \"\"\"Constructs a solution according to the following heuristic:\n",
    "    1. Create an empty solution. (Empty lists (representing order-numbers) by machine-numbers in a dictionary)\n",
    "    2. Assign the order with the lowest order-number to the machine with the lowest amount of assigned orders, adding it to the end to the order-queue for that machine. The tiebreaking rule is that the machine with the lowest machine-number gets the order.\n",
    "    3. Go to step 2 unless all orders are assigned.\n",
    "    \n",
    "    Returns:\n",
    "        dict[int, list[int]]: The constructed solution. \n",
    "    \"\"\"\n",
    "    \n",
    "    \n",
    "    # Construct an empty solution dictionary.\n",
    "    schedule = Schedule()\n",
    "    \n",
    "    # For each order (ordered by order-number ascending).\n",
    "    for order_id in sorted(PS.order_ids, key = lambda order_id: PS.orders.loc[order_id, 'deadline']):\n",
    "        \n",
    "        # Determine machine index with the shortest queue (adding a machine's index (scaled to a fraction) works like the tiebreaking rule).\n",
    "        machine_id_next = sorted(\n",
    "            PS.machine_ids, \n",
    "            key = lambda i:\n",
    "                schedule.get_finish_time(i) + \n",
    "                i / len(PS.machine_ids), \n",
    "        )[0]\n",
    "        \n",
    "        # Add order to machine queue.\n",
    "        schedule[machine_id_next, :] += [order_id]\n",
    "        \n",
    "    return schedule"
   ]
  },
  {
   "cell_type": "code",
   "execution_count": 7,
   "metadata": {},
   "outputs": [],
   "source": [
    "\n",
    "def heuristic_constructive_random() -> Schedule:\n",
    "    \"\"\"Constructs a solution according to the following heuristic:\n",
    "    1. Create an empty solution. (Empty lists (representing order-numbers) by machine-numbers in a dictionary)\n",
    "    2. Assign the order with the lowest order-number to the machine with the lowest amount of assigned orders, adding it to the end to the order-queue for that machine. The tiebreaking rule is that the machine with the lowest machine-number gets the order.\n",
    "    3. Go to step 2 unless all orders are assigned.\n",
    "    \n",
    "    Returns:\n",
    "        dict[int, list[int]]: The constructed solution. \n",
    "    \"\"\"\n",
    "    \n",
    "    \n",
    "    # Construct an empty solution dictionary.\n",
    "    schedule = Schedule()\n",
    "    \n",
    "    # Create list of shuffled order ID's\n",
    "    order_ids_remaining = PS.order_ids\n",
    "    rng.shuffle(order_ids_remaining)\n",
    "    \n",
    "    while len(order_ids_remaining) > 0:\n",
    "        \n",
    "        next_order_id_index = rng.choice(range(len(order_ids_remaining)))\n",
    "        \n",
    "        schedule[rng.choice(PS.machine_ids), :] += [order_ids_remaining[next_order_id_index]]\n",
    "        \n",
    "        order_ids_remaining = np.delete(order_ids_remaining, next_order_id_index)     \n",
    "         \n",
    "    return schedule"
   ]
  },
  {
   "cell_type": "code",
   "execution_count": 8,
   "metadata": {},
   "outputs": [],
   "source": [
    "import math\n",
    "\n",
    "\n",
    "def heuristic_improvement_best(initial: Schedule) -> Schedule:\n",
    "    \n",
    "    current_schedule = initial\n",
    "    \n",
    "    print(f\"Initial:\")\n",
    "    print(str(current_schedule) + \"\\n\")\n",
    "    \n",
    "    while True:\n",
    "    \n",
    "        best_swap = None\n",
    "        best_swap_cost = initial.get_cost()\n",
    "        \n",
    "        for swap in current_schedule.get_swaps():\n",
    "            swapped_schedule: Schedule = current_schedule.get_copy(swap)\n",
    "            swapped_cost = swapped_schedule.get_cost()\n",
    "            \n",
    "            # print(f\"Swap: {swap}, Cost: {swapped_cost}\")\n",
    "            \n",
    "            if (swapped_cost < best_swap_cost):\n",
    "                best_swap = swap\n",
    "                best_swap_cost = swapped_cost\n",
    "        \n",
    "        # Break the loop if no improving swap was found.\n",
    "        if best_swap == None:\n",
    "            break\n",
    "        \n",
    "        current_schedule.swap(best_swap)\n",
    "        print(f\"Swapped: {best_swap}.\")\n",
    "        print(str(current_schedule) + \"\\n\")\n",
    "        \n",
    "    return current_schedule"
   ]
  },
  {
   "cell_type": "code",
   "execution_count": 9,
   "metadata": {},
   "outputs": [],
   "source": [
    "def heuristic_improvement_first(initial: Schedule) -> Schedule:\n",
    "    \n",
    "    current_schedule = initial\n",
    "    \n",
    "    print(f\"Initial:\")\n",
    "    print(str(current_schedule) + \"\\n\")\n",
    "    \n",
    "    while True:\n",
    "    \n",
    "        first_improvement = None\n",
    "        initial_swap_cost = initial.get_cost()\n",
    "        \n",
    "        for swap in current_schedule.get_swaps():\n",
    "            swapped_schedule: Schedule = current_schedule.get_copy(swap)\n",
    "            swapped_cost = swapped_schedule.get_cost()\n",
    "            \n",
    "            # print(f\"Swap: {swap}, Cost: {swapped_cost}\")\n",
    "            # \n",
    "            if (swapped_cost < initial_swap_cost):\n",
    "                first_improvement = swap\n",
    "                break\n",
    "        \n",
    "        # Break the loop if no improving swap was found.\n",
    "        if first_improvement == None:\n",
    "            break\n",
    "        \n",
    "        current_schedule.swap(first_improvement)\n",
    "        print(f\"Swapped: {first_improvement}.\")\n",
    "        print(str(current_schedule) + \"\\n\")\n",
    "        \n",
    "    return current_schedule"
   ]
  },
  {
   "cell_type": "code",
   "execution_count": 10,
   "metadata": {},
   "outputs": [],
   "source": [
    "# heuristic_improvement_best(heuristic_constructive_simple()).draw()\n",
    "# heuristic_constructive_simple().draw()"
   ]
  },
  {
   "cell_type": "code",
   "execution_count": 11,
   "metadata": {},
   "outputs": [
    {
     "name": "stdout",
     "output_type": "stream",
     "text": [
      "       0   1   2   3   4   5   6   7   8   9   1414.11\n",
      "M1: [ \u001b[32m 0\u001b[0m  \u001b[31m 3\u001b[0m  \u001b[32m 6\u001b[0m  \u001b[32m 9\u001b[0m  \u001b[32m12\u001b[0m  \u001b[32m15\u001b[0m  \u001b[32m18\u001b[0m  \u001b[32m21\u001b[0m  \u001b[31m24\u001b[0m  \u001b[31m27\u001b[0m ] 565.00 (40%)\n",
      "M2: [ \u001b[32m 1\u001b[0m  \u001b[32m 4\u001b[0m  \u001b[32m 7\u001b[0m  \u001b[31m10\u001b[0m  \u001b[32m13\u001b[0m  \u001b[32m16\u001b[0m  \u001b[32m19\u001b[0m  \u001b[32m22\u001b[0m  \u001b[31m25\u001b[0m  \u001b[32m28\u001b[0m ] 222.00 (16%)\n",
      "M3: [ \u001b[32m 2\u001b[0m  \u001b[32m 5\u001b[0m  \u001b[32m 8\u001b[0m  \u001b[31m11\u001b[0m  \u001b[32m14\u001b[0m  \u001b[32m17\u001b[0m  \u001b[31m20\u001b[0m  \u001b[32m23\u001b[0m  \u001b[31m26\u001b[0m  \u001b[31m29\u001b[0m ] 627.11 (44%)\n",
      "\n",
      "       0   1   2   3   4   5   6   7   8   9  10  11   2815.77\n",
      "M1: [ \u001b[32m 0\u001b[0m  \u001b[31m 3\u001b[0m  \u001b[31m 7\u001b[0m  \u001b[32m12\u001b[0m  \u001b[32m14\u001b[0m  \u001b[32m17\u001b[0m  \u001b[31m20\u001b[0m  \u001b[32m22\u001b[0m  \u001b[31m25\u001b[0m  \u001b[31m29\u001b[0m         ] 760.50  (27%)\n",
      "M2: [ \u001b[32m 1\u001b[0m  \u001b[32m 4\u001b[0m  \u001b[32m 6\u001b[0m  \u001b[32m 9\u001b[0m  \u001b[31m10\u001b[0m  \u001b[31m13\u001b[0m  \u001b[31m15\u001b[0m  \u001b[31m19\u001b[0m  \u001b[31m21\u001b[0m  \u001b[31m24\u001b[0m  \u001b[31m26\u001b[0m  \u001b[31m28\u001b[0m ] 1440.60 (51%)\n",
      "M3: [ \u001b[32m 2\u001b[0m  \u001b[32m 5\u001b[0m  \u001b[32m 8\u001b[0m  \u001b[31m11\u001b[0m  \u001b[32m16\u001b[0m  \u001b[31m18\u001b[0m  \u001b[32m23\u001b[0m  \u001b[31m27\u001b[0m                 ] 614.67  (22%)\n",
      "\n",
      "       0   1   2   3   4   5   6   7   8   9  10   4181.39\n",
      "M1: [ \u001b[32m 2\u001b[0m  \u001b[31m10\u001b[0m  \u001b[31m 6\u001b[0m  \u001b[31m 7\u001b[0m  \u001b[31m13\u001b[0m  \u001b[31m19\u001b[0m  \u001b[31m18\u001b[0m  \u001b[31m16\u001b[0m  \u001b[31m28\u001b[0m  \u001b[31m23\u001b[0m     ] 1632.50 (39%)\n",
      "M2: [ \u001b[32m 3\u001b[0m  \u001b[31m11\u001b[0m  \u001b[31m 8\u001b[0m  \u001b[31m 4\u001b[0m  \u001b[31m12\u001b[0m  \u001b[31m15\u001b[0m  \u001b[31m14\u001b[0m  \u001b[31m26\u001b[0m  \u001b[31m25\u001b[0m  \u001b[31m21\u001b[0m  \u001b[31m29\u001b[0m ] 1445.00 (35%)\n",
      "M3: [ \u001b[32m 0\u001b[0m  \u001b[32m 1\u001b[0m  \u001b[31m 5\u001b[0m  \u001b[31m 9\u001b[0m  \u001b[31m24\u001b[0m  \u001b[31m20\u001b[0m  \u001b[31m17\u001b[0m  \u001b[31m27\u001b[0m  \u001b[31m22\u001b[0m         ] 1103.89 (26%)\n",
      "\n",
      "       0   1   2   3   4   5   6   7   8   9  10  11  12   8345.60\n",
      "M1: [ \u001b[32m 3\u001b[0m  \u001b[32m12\u001b[0m  \u001b[32m23\u001b[0m  \u001b[32m21\u001b[0m  \u001b[31m 7\u001b[0m  \u001b[32m22\u001b[0m  \u001b[31m 0\u001b[0m  \u001b[31m16\u001b[0m  \u001b[31m19\u001b[0m  \u001b[31m 9\u001b[0m  \u001b[31m 8\u001b[0m         ] 3221.00 (39%)\n",
      "M2: [ \u001b[32m 6\u001b[0m  \u001b[32m26\u001b[0m  \u001b[32m 5\u001b[0m  \u001b[32m20\u001b[0m  \u001b[32m18\u001b[0m  \u001b[32m17\u001b[0m  \u001b[31m 2\u001b[0m  \u001b[31m14\u001b[0m  \u001b[31m11\u001b[0m  \u001b[32m29\u001b[0m  \u001b[31m15\u001b[0m  \u001b[31m10\u001b[0m  \u001b[31m24\u001b[0m ] 4484.60 (54%)\n",
      "M3: [ \u001b[32m28\u001b[0m  \u001b[32m27\u001b[0m  \u001b[32m 4\u001b[0m  \u001b[32m25\u001b[0m  \u001b[31m 1\u001b[0m  \u001b[31m13\u001b[0m                             ] 640.00  (8%)\n"
     ]
    }
   ],
   "source": [
    "print('\\n\\n'.join([\n",
    "    f\"{schedule}\" for heuristic, schedule in {\n",
    "        \"constructive_simple\": heuristic_constructive_simple(),\n",
    "        \"constructive_simple_2\": heuristic_constructive_simple_2(),\n",
    "        \"constructive_simple_3\": heuristic_constructive_simple_3(),\n",
    "        \"constructive_random\": heuristic_constructive_random()\n",
    "    }.items()\n",
    "]))"
   ]
  },
  {
   "cell_type": "markdown",
   "metadata": {},
   "source": [
    "### Move\n",
    "This abstract base class (ABC) and it's subclasses handle the move operations. The static method 'get_moves' of 'Move' can be called to get a list of every possible move on a given schedule. The subclasses handle the different operations involved. The 'Move' class is the interface."
   ]
  },
  {
   "cell_type": "code",
   "execution_count": null,
   "metadata": {},
   "outputs": [],
   "source": []
  },
  {
   "cell_type": "markdown",
   "metadata": {},
   "source": [
    "# Code Validation"
   ]
  },
  {
   "cell_type": "code",
   "execution_count": 12,
   "metadata": {},
   "outputs": [],
   "source": [
    "import itertools as iter"
   ]
  },
  {
   "cell_type": "code",
   "execution_count": 13,
   "metadata": {},
   "outputs": [
    {
     "name": "stdout",
     "output_type": "stream",
     "text": [
      "       0   1   2   3   4   5   6   7   8   9  10   9301.79\n",
      "M1: [ \u001b[32m26\u001b[0m  \u001b[32m13\u001b[0m  \u001b[31m11\u001b[0m  \u001b[31m 1\u001b[0m  \u001b[32m27\u001b[0m  \u001b[31m25\u001b[0m  \u001b[31m24\u001b[0m  \u001b[31m 2\u001b[0m  \u001b[31m20\u001b[0m  \u001b[31m 4\u001b[0m     ] 3434.50 (37%)\n",
      "M2: [ \u001b[32m15\u001b[0m  \u001b[32m28\u001b[0m  \u001b[31m 3\u001b[0m  \u001b[32m23\u001b[0m  \u001b[32m17\u001b[0m  \u001b[32m22\u001b[0m  \u001b[31m 9\u001b[0m  \u001b[31m16\u001b[0m  \u001b[31m10\u001b[0m         ] 1865.40 (20%)\n",
      "M3: [ \u001b[32m19\u001b[0m  \u001b[32m29\u001b[0m  \u001b[31m 6\u001b[0m  \u001b[32m21\u001b[0m  \u001b[32m12\u001b[0m  \u001b[31m 5\u001b[0m  \u001b[31m14\u001b[0m  \u001b[31m 7\u001b[0m  \u001b[31m18\u001b[0m  \u001b[31m 8\u001b[0m  \u001b[31m 0\u001b[0m ] 4001.89 (43%)\n",
      "\n",
      "Amount of moves: 927\n",
      "\n",
      "Moves that do nothing: 0\n",
      "\n",
      "Unique schedules after moves: 900\n",
      "       0   1   2   3   4   5   6   7   8   9  10   8445.19\n",
      "M1: [ \u001b[32m26\u001b[0m  \u001b[32m13\u001b[0m  \u001b[31m11\u001b[0m  \u001b[31m 1\u001b[0m  \u001b[32m27\u001b[0m  \u001b[31m25\u001b[0m  \u001b[31m24\u001b[0m  \u001b[31m 2\u001b[0m  \u001b[31m20\u001b[0m  \u001b[31m 4\u001b[0m     ] 3434.50 (41%)\n",
      "M2: [ \u001b[32m15\u001b[0m  \u001b[32m 3\u001b[0m  \u001b[32m28\u001b[0m  \u001b[32m23\u001b[0m  \u001b[32m17\u001b[0m  \u001b[32m22\u001b[0m  \u001b[31m 9\u001b[0m  \u001b[32m16\u001b[0m  \u001b[31m10\u001b[0m         ] 1008.80 (12%)\n",
      "M3: [ \u001b[32m19\u001b[0m  \u001b[32m29\u001b[0m  \u001b[31m 6\u001b[0m  \u001b[32m21\u001b[0m  \u001b[32m12\u001b[0m  \u001b[31m 5\u001b[0m  \u001b[31m14\u001b[0m  \u001b[31m 7\u001b[0m  \u001b[31m18\u001b[0m  \u001b[31m 8\u001b[0m  \u001b[31m 0\u001b[0m ] 4001.89 (47%)\n",
      "       0   1   2   3   4   5   6   7   8   9  10   8798.46\n",
      "M1: [ \u001b[32m26\u001b[0m  \u001b[32m13\u001b[0m  \u001b[31m11\u001b[0m  \u001b[31m 1\u001b[0m  \u001b[32m27\u001b[0m  \u001b[31m25\u001b[0m  \u001b[31m24\u001b[0m  \u001b[31m 2\u001b[0m  \u001b[31m20\u001b[0m  \u001b[31m 4\u001b[0m     ] 3434.50 (39%)\n",
      "M2: [ \u001b[32m15\u001b[0m  \u001b[32m28\u001b[0m  \u001b[31m 3\u001b[0m  \u001b[32m23\u001b[0m  \u001b[32m17\u001b[0m  \u001b[32m22\u001b[0m  \u001b[31m 9\u001b[0m  \u001b[31m16\u001b[0m  \u001b[31m10\u001b[0m         ] 1865.40 (21%)\n",
      "M3: [ \u001b[32m19\u001b[0m  \u001b[32m29\u001b[0m  \u001b[31m 6\u001b[0m  \u001b[32m21\u001b[0m  \u001b[32m12\u001b[0m  \u001b[31m 5\u001b[0m  \u001b[31m 7\u001b[0m  \u001b[31m14\u001b[0m  \u001b[31m18\u001b[0m  \u001b[31m 8\u001b[0m  \u001b[31m 0\u001b[0m ] 3498.56 (40%)\n",
      "       0   1   2   3   4   5   6   7   8   9  10   8825.19\n",
      "M1: [ \u001b[32m26\u001b[0m  \u001b[32m13\u001b[0m  \u001b[31m11\u001b[0m  \u001b[31m 1\u001b[0m  \u001b[32m27\u001b[0m  \u001b[31m25\u001b[0m  \u001b[31m24\u001b[0m  \u001b[31m 2\u001b[0m  \u001b[31m20\u001b[0m  \u001b[31m 4\u001b[0m     ] 3434.50 (39%)\n",
      "M2: [ \u001b[32m28\u001b[0m  \u001b[32m15\u001b[0m  \u001b[31m 3\u001b[0m  \u001b[32m23\u001b[0m  \u001b[32m17\u001b[0m  \u001b[32m22\u001b[0m  \u001b[31m 9\u001b[0m  \u001b[32m16\u001b[0m  \u001b[31m10\u001b[0m         ] 1388.80 (16%)\n",
      "M3: [ \u001b[32m19\u001b[0m  \u001b[32m29\u001b[0m  \u001b[31m 6\u001b[0m  \u001b[32m21\u001b[0m  \u001b[32m12\u001b[0m  \u001b[31m 5\u001b[0m  \u001b[31m14\u001b[0m  \u001b[31m 7\u001b[0m  \u001b[31m18\u001b[0m  \u001b[31m 8\u001b[0m  \u001b[31m 0\u001b[0m ] 4001.89 (45%)\n",
      "       0   1   2   3   4   5   6   7   8   9  10   8876.79\n",
      "M1: [ \u001b[32m26\u001b[0m  \u001b[32m13\u001b[0m  \u001b[31m 1\u001b[0m  \u001b[31m11\u001b[0m  \u001b[32m27\u001b[0m  \u001b[31m25\u001b[0m  \u001b[31m24\u001b[0m  \u001b[31m 2\u001b[0m  \u001b[31m20\u001b[0m  \u001b[31m 4\u001b[0m     ] 3009.50 (34%)\n",
      "M2: [ \u001b[32m15\u001b[0m  \u001b[32m28\u001b[0m  \u001b[31m 3\u001b[0m  \u001b[32m23\u001b[0m  \u001b[32m17\u001b[0m  \u001b[32m22\u001b[0m  \u001b[31m 9\u001b[0m  \u001b[31m16\u001b[0m  \u001b[31m10\u001b[0m         ] 1865.40 (21%)\n",
      "M3: [ \u001b[32m19\u001b[0m  \u001b[32m29\u001b[0m  \u001b[31m 6\u001b[0m  \u001b[32m21\u001b[0m  \u001b[32m12\u001b[0m  \u001b[31m 5\u001b[0m  \u001b[31m14\u001b[0m  \u001b[31m 7\u001b[0m  \u001b[31m18\u001b[0m  \u001b[31m 8\u001b[0m  \u001b[31m 0\u001b[0m ] 4001.89 (45%)\n",
      "       0   1   2   3   4   5   6   7   8   9  10   8964.79\n",
      "M1: [ \u001b[32m26\u001b[0m  \u001b[32m13\u001b[0m  \u001b[31m11\u001b[0m  \u001b[31m 1\u001b[0m  \u001b[32m25\u001b[0m  \u001b[31m27\u001b[0m  \u001b[31m24\u001b[0m  \u001b[31m 2\u001b[0m  \u001b[31m20\u001b[0m  \u001b[31m 4\u001b[0m     ] 3097.50 (35%)\n",
      "M2: [ \u001b[32m15\u001b[0m  \u001b[32m28\u001b[0m  \u001b[31m 3\u001b[0m  \u001b[32m23\u001b[0m  \u001b[32m17\u001b[0m  \u001b[32m22\u001b[0m  \u001b[31m 9\u001b[0m  \u001b[31m16\u001b[0m  \u001b[31m10\u001b[0m         ] 1865.40 (21%)\n",
      "M3: [ \u001b[32m19\u001b[0m  \u001b[32m29\u001b[0m  \u001b[31m 6\u001b[0m  \u001b[32m21\u001b[0m  \u001b[32m12\u001b[0m  \u001b[31m 5\u001b[0m  \u001b[31m14\u001b[0m  \u001b[31m 7\u001b[0m  \u001b[31m18\u001b[0m  \u001b[31m 8\u001b[0m  \u001b[31m 0\u001b[0m ] 4001.89 (45%)\n",
      "       0   1   2   3   4   5   6   7   8   9  10   9025.79\n",
      "M1: [ \u001b[32m26\u001b[0m  \u001b[31m11\u001b[0m  \u001b[32m13\u001b[0m  \u001b[31m 1\u001b[0m  \u001b[32m27\u001b[0m  \u001b[31m25\u001b[0m  \u001b[31m24\u001b[0m  \u001b[31m 2\u001b[0m  \u001b[31m20\u001b[0m  \u001b[31m 4\u001b[0m     ] 3158.50 (35%)\n",
      "M2: [ \u001b[32m15\u001b[0m  \u001b[32m28\u001b[0m  \u001b[31m 3\u001b[0m  \u001b[32m23\u001b[0m  \u001b[32m17\u001b[0m  \u001b[32m22\u001b[0m  \u001b[31m 9\u001b[0m  \u001b[31m16\u001b[0m  \u001b[31m10\u001b[0m         ] 1865.40 (21%)\n",
      "M3: [ \u001b[32m19\u001b[0m  \u001b[32m29\u001b[0m  \u001b[31m 6\u001b[0m  \u001b[32m21\u001b[0m  \u001b[32m12\u001b[0m  \u001b[31m 5\u001b[0m  \u001b[31m14\u001b[0m  \u001b[31m 7\u001b[0m  \u001b[31m18\u001b[0m  \u001b[31m 8\u001b[0m  \u001b[31m 0\u001b[0m ] 4001.89 (44%)\n",
      "       0   1   2   3   4   5   6   7   8   9  10   9115.79\n",
      "M1: [ \u001b[32m26\u001b[0m  \u001b[32m13\u001b[0m  \u001b[31m11\u001b[0m  \u001b[31m 1\u001b[0m  \u001b[32m27\u001b[0m  \u001b[31m25\u001b[0m  \u001b[31m24\u001b[0m  \u001b[31m 2\u001b[0m  \u001b[31m20\u001b[0m  \u001b[31m 4\u001b[0m     ] 3434.50 (38%)\n",
      "M2: [ \u001b[32m15\u001b[0m  \u001b[32m28\u001b[0m  \u001b[32m23\u001b[0m  \u001b[31m 3\u001b[0m  \u001b[32m17\u001b[0m  \u001b[32m22\u001b[0m  \u001b[31m 9\u001b[0m  \u001b[31m16\u001b[0m  \u001b[31m10\u001b[0m         ] 1679.40 (18%)\n",
      "M3: [ \u001b[32m19\u001b[0m  \u001b[32m29\u001b[0m  \u001b[31m 6\u001b[0m  \u001b[32m21\u001b[0m  \u001b[32m12\u001b[0m  \u001b[31m 5\u001b[0m  \u001b[31m14\u001b[0m  \u001b[31m 7\u001b[0m  \u001b[31m18\u001b[0m  \u001b[31m 8\u001b[0m  \u001b[31m 0\u001b[0m ] 4001.89 (44%)\n",
      "       0   1   2   3   4   5   6   7   8   9  10   9218.79\n",
      "M1: [ \u001b[32m26\u001b[0m  \u001b[32m13\u001b[0m  \u001b[31m11\u001b[0m  \u001b[32m27\u001b[0m  \u001b[31m 1\u001b[0m  \u001b[31m25\u001b[0m  \u001b[31m24\u001b[0m  \u001b[31m 2\u001b[0m  \u001b[31m20\u001b[0m  \u001b[31m 4\u001b[0m     ] 3351.50 (36%)\n",
      "M2: [ \u001b[32m15\u001b[0m  \u001b[32m28\u001b[0m  \u001b[31m 3\u001b[0m  \u001b[32m23\u001b[0m  \u001b[32m17\u001b[0m  \u001b[32m22\u001b[0m  \u001b[31m 9\u001b[0m  \u001b[31m16\u001b[0m  \u001b[31m10\u001b[0m         ] 1865.40 (20%)\n",
      "M3: [ \u001b[32m19\u001b[0m  \u001b[32m29\u001b[0m  \u001b[31m 6\u001b[0m  \u001b[32m21\u001b[0m  \u001b[32m12\u001b[0m  \u001b[31m 5\u001b[0m  \u001b[31m14\u001b[0m  \u001b[31m 7\u001b[0m  \u001b[31m18\u001b[0m  \u001b[31m 8\u001b[0m  \u001b[31m 0\u001b[0m ] 4001.89 (43%)\n",
      "       0   1   2   3   4   5   6   7   8   9  10   9226.23\n",
      "M1: [ \u001b[32m26\u001b[0m  \u001b[32m13\u001b[0m  \u001b[31m11\u001b[0m  \u001b[31m 1\u001b[0m  \u001b[32m27\u001b[0m  \u001b[31m25\u001b[0m  \u001b[31m24\u001b[0m  \u001b[31m 2\u001b[0m  \u001b[31m20\u001b[0m  \u001b[31m 4\u001b[0m     ] 3434.50 (37%)\n",
      "M2: [ \u001b[32m15\u001b[0m  \u001b[32m28\u001b[0m  \u001b[31m 3\u001b[0m  \u001b[32m23\u001b[0m  \u001b[32m17\u001b[0m  \u001b[32m22\u001b[0m  \u001b[31m 9\u001b[0m  \u001b[31m16\u001b[0m  \u001b[31m10\u001b[0m         ] 1865.40 (20%)\n",
      "M3: [ \u001b[32m19\u001b[0m  \u001b[32m29\u001b[0m  \u001b[31m 6\u001b[0m  \u001b[32m21\u001b[0m  \u001b[32m12\u001b[0m  \u001b[31m 5\u001b[0m  \u001b[31m14\u001b[0m  \u001b[31m18\u001b[0m  \u001b[31m 7\u001b[0m  \u001b[31m 8\u001b[0m  \u001b[31m 0\u001b[0m ] 3926.33 (43%)\n",
      "       0   1   2   3   4   5   6   7   8   9  10   9237.79\n",
      "M1: [ \u001b[32m26\u001b[0m  \u001b[32m13\u001b[0m  \u001b[31m11\u001b[0m  \u001b[31m 1\u001b[0m  \u001b[32m27\u001b[0m  \u001b[31m25\u001b[0m  \u001b[31m24\u001b[0m  \u001b[31m 2\u001b[0m  \u001b[31m 4\u001b[0m  \u001b[31m20\u001b[0m     ] 3370.50 (36%)\n",
      "M2: [ \u001b[32m15\u001b[0m  \u001b[32m28\u001b[0m  \u001b[31m 3\u001b[0m  \u001b[32m23\u001b[0m  \u001b[32m17\u001b[0m  \u001b[32m22\u001b[0m  \u001b[31m 9\u001b[0m  \u001b[31m16\u001b[0m  \u001b[31m10\u001b[0m         ] 1865.40 (20%)\n",
      "M3: [ \u001b[32m19\u001b[0m  \u001b[32m29\u001b[0m  \u001b[31m 6\u001b[0m  \u001b[32m21\u001b[0m  \u001b[32m12\u001b[0m  \u001b[31m 5\u001b[0m  \u001b[31m14\u001b[0m  \u001b[31m 7\u001b[0m  \u001b[31m18\u001b[0m  \u001b[31m 8\u001b[0m  \u001b[31m 0\u001b[0m ] 4001.89 (43%)\n",
      "       0   1   2   3   4   5   6   7   8   9  10   9303.57\n",
      "M1: [ \u001b[32m26\u001b[0m  \u001b[32m13\u001b[0m  \u001b[31m11\u001b[0m  \u001b[31m 1\u001b[0m  \u001b[32m27\u001b[0m  \u001b[31m25\u001b[0m  \u001b[31m24\u001b[0m  \u001b[31m 2\u001b[0m  \u001b[31m20\u001b[0m  \u001b[31m 4\u001b[0m     ] 3434.50 (37%)\n",
      "M2: [ \u001b[32m15\u001b[0m  \u001b[32m28\u001b[0m  \u001b[31m 3\u001b[0m  \u001b[32m23\u001b[0m  \u001b[32m17\u001b[0m  \u001b[32m22\u001b[0m  \u001b[31m 9\u001b[0m  \u001b[31m16\u001b[0m  \u001b[31m10\u001b[0m         ] 1865.40 (20%)\n",
      "M3: [ \u001b[32m19\u001b[0m  \u001b[32m29\u001b[0m  \u001b[31m 6\u001b[0m  \u001b[32m21\u001b[0m  \u001b[32m12\u001b[0m  \u001b[31m 5\u001b[0m  \u001b[31m14\u001b[0m  \u001b[31m 7\u001b[0m  \u001b[31m18\u001b[0m  \u001b[31m 0\u001b[0m  \u001b[31m 8\u001b[0m ] 4003.67 (43%)\n",
      "       0   1   2   3   4   5   6   7   8   9  10   9309.29\n",
      "M1: [ \u001b[32m26\u001b[0m  \u001b[32m13\u001b[0m  \u001b[31m11\u001b[0m  \u001b[31m 1\u001b[0m  \u001b[32m27\u001b[0m  \u001b[31m24\u001b[0m  \u001b[31m25\u001b[0m  \u001b[31m 2\u001b[0m  \u001b[31m20\u001b[0m  \u001b[31m 4\u001b[0m     ] 3442.00 (37%)\n",
      "M2: [ \u001b[32m15\u001b[0m  \u001b[32m28\u001b[0m  \u001b[31m 3\u001b[0m  \u001b[32m23\u001b[0m  \u001b[32m17\u001b[0m  \u001b[32m22\u001b[0m  \u001b[31m 9\u001b[0m  \u001b[31m16\u001b[0m  \u001b[31m10\u001b[0m         ] 1865.40 (20%)\n",
      "M3: [ \u001b[32m19\u001b[0m  \u001b[32m29\u001b[0m  \u001b[31m 6\u001b[0m  \u001b[32m21\u001b[0m  \u001b[32m12\u001b[0m  \u001b[31m 5\u001b[0m  \u001b[31m14\u001b[0m  \u001b[31m 7\u001b[0m  \u001b[31m18\u001b[0m  \u001b[31m 8\u001b[0m  \u001b[31m 0\u001b[0m ] 4001.89 (43%)\n",
      "       0   1   2   3   4   5   6   7   8   9  10   9324.79\n",
      "M1: [ \u001b[32m26\u001b[0m  \u001b[32m13\u001b[0m  \u001b[31m11\u001b[0m  \u001b[31m 1\u001b[0m  \u001b[32m27\u001b[0m  \u001b[31m25\u001b[0m  \u001b[31m24\u001b[0m  \u001b[31m 2\u001b[0m  \u001b[31m20\u001b[0m  \u001b[31m 4\u001b[0m     ] 3434.50 (37%)\n",
      "M2: [ \u001b[32m15\u001b[0m  \u001b[32m28\u001b[0m  \u001b[31m 3\u001b[0m  \u001b[32m23\u001b[0m  \u001b[32m17\u001b[0m  \u001b[31m 9\u001b[0m  \u001b[32m22\u001b[0m  \u001b[31m16\u001b[0m  \u001b[31m10\u001b[0m         ] 1888.40 (20%)\n",
      "M3: [ \u001b[32m19\u001b[0m  \u001b[32m29\u001b[0m  \u001b[31m 6\u001b[0m  \u001b[32m21\u001b[0m  \u001b[32m12\u001b[0m  \u001b[31m 5\u001b[0m  \u001b[31m14\u001b[0m  \u001b[31m 7\u001b[0m  \u001b[31m18\u001b[0m  \u001b[31m 8\u001b[0m  \u001b[31m 0\u001b[0m ] 4001.89 (43%)\n",
      "       0   1   2   3   4   5   6   7   8   9  10   9336.79\n",
      "M1: [ \u001b[32m26\u001b[0m  \u001b[32m13\u001b[0m  \u001b[31m11\u001b[0m  \u001b[31m 1\u001b[0m  \u001b[32m27\u001b[0m  \u001b[31m25\u001b[0m  \u001b[31m24\u001b[0m  \u001b[31m20\u001b[0m  \u001b[31m 2\u001b[0m  \u001b[31m 4\u001b[0m     ] 3469.50 (37%)\n",
      "M2: [ \u001b[32m15\u001b[0m  \u001b[32m28\u001b[0m  \u001b[31m 3\u001b[0m  \u001b[32m23\u001b[0m  \u001b[32m17\u001b[0m  \u001b[32m22\u001b[0m  \u001b[31m 9\u001b[0m  \u001b[31m16\u001b[0m  \u001b[31m10\u001b[0m         ] 1865.40 (20%)\n",
      "M3: [ \u001b[32m19\u001b[0m  \u001b[32m29\u001b[0m  \u001b[31m 6\u001b[0m  \u001b[32m21\u001b[0m  \u001b[32m12\u001b[0m  \u001b[31m 5\u001b[0m  \u001b[31m14\u001b[0m  \u001b[31m 7\u001b[0m  \u001b[31m18\u001b[0m  \u001b[31m 8\u001b[0m  \u001b[31m 0\u001b[0m ] 4001.89 (43%)\n",
      "       0   1   2   3   4   5   6   7   8   9  10   9354.19\n",
      "M1: [ \u001b[32m26\u001b[0m  \u001b[32m13\u001b[0m  \u001b[31m11\u001b[0m  \u001b[31m 1\u001b[0m  \u001b[32m27\u001b[0m  \u001b[31m25\u001b[0m  \u001b[31m24\u001b[0m  \u001b[31m 2\u001b[0m  \u001b[31m20\u001b[0m  \u001b[31m 4\u001b[0m     ] 3434.50 (37%)\n",
      "M2: [ \u001b[32m15\u001b[0m  \u001b[32m28\u001b[0m  \u001b[31m 3\u001b[0m  \u001b[32m23\u001b[0m  \u001b[32m17\u001b[0m  \u001b[32m22\u001b[0m  \u001b[31m 9\u001b[0m  \u001b[31m10\u001b[0m  \u001b[31m16\u001b[0m         ] 1917.80 (21%)\n",
      "M3: [ \u001b[32m19\u001b[0m  \u001b[32m29\u001b[0m  \u001b[31m 6\u001b[0m  \u001b[32m21\u001b[0m  \u001b[32m12\u001b[0m  \u001b[31m 5\u001b[0m  \u001b[31m14\u001b[0m  \u001b[31m 7\u001b[0m  \u001b[31m18\u001b[0m  \u001b[31m 8\u001b[0m  \u001b[31m 0\u001b[0m ] 4001.89 (43%)\n",
      "       0   1   2   3   4   5   6   7   8   9  10   9382.34\n",
      "M1: [ \u001b[32m26\u001b[0m  \u001b[32m13\u001b[0m  \u001b[31m11\u001b[0m  \u001b[31m 1\u001b[0m  \u001b[32m27\u001b[0m  \u001b[31m25\u001b[0m  \u001b[31m24\u001b[0m  \u001b[31m 2\u001b[0m  \u001b[31m20\u001b[0m  \u001b[31m 4\u001b[0m     ] 3434.50 (37%)\n",
      "M2: [ \u001b[32m15\u001b[0m  \u001b[32m28\u001b[0m  \u001b[31m 3\u001b[0m  \u001b[32m23\u001b[0m  \u001b[32m17\u001b[0m  \u001b[32m22\u001b[0m  \u001b[31m 9\u001b[0m  \u001b[31m16\u001b[0m  \u001b[31m10\u001b[0m         ] 1865.40 (20%)\n",
      "M3: [ \u001b[32m19\u001b[0m  \u001b[32m29\u001b[0m  \u001b[31m 6\u001b[0m  \u001b[32m21\u001b[0m  \u001b[32m12\u001b[0m  \u001b[31m 5\u001b[0m  \u001b[31m14\u001b[0m  \u001b[31m 7\u001b[0m  \u001b[31m 8\u001b[0m  \u001b[31m18\u001b[0m  \u001b[31m 0\u001b[0m ] 4082.44 (44%)\n",
      "       0   1   2   3   4   5   6   7   8   9  10   9402.90\n",
      "M1: [ \u001b[32m26\u001b[0m  \u001b[32m13\u001b[0m  \u001b[31m11\u001b[0m  \u001b[31m 1\u001b[0m  \u001b[32m27\u001b[0m  \u001b[31m25\u001b[0m  \u001b[31m24\u001b[0m  \u001b[31m 2\u001b[0m  \u001b[31m20\u001b[0m  \u001b[31m 4\u001b[0m     ] 3434.50 (37%)\n",
      "M2: [ \u001b[32m15\u001b[0m  \u001b[32m28\u001b[0m  \u001b[31m 3\u001b[0m  \u001b[32m23\u001b[0m  \u001b[32m17\u001b[0m  \u001b[32m22\u001b[0m  \u001b[31m 9\u001b[0m  \u001b[31m16\u001b[0m  \u001b[31m10\u001b[0m         ] 1865.40 (20%)\n",
      "M3: [ \u001b[32m19\u001b[0m  \u001b[32m29\u001b[0m  \u001b[32m21\u001b[0m  \u001b[31m 6\u001b[0m  \u001b[32m12\u001b[0m  \u001b[31m 5\u001b[0m  \u001b[31m14\u001b[0m  \u001b[31m 7\u001b[0m  \u001b[31m18\u001b[0m  \u001b[31m 8\u001b[0m  \u001b[31m 0\u001b[0m ] 4103.00 (44%)\n",
      "       0   1   2   3   4   5   6   7   8   9  10   9445.46\n",
      "M1: [ \u001b[32m26\u001b[0m  \u001b[32m13\u001b[0m  \u001b[31m11\u001b[0m  \u001b[31m 1\u001b[0m  \u001b[32m27\u001b[0m  \u001b[31m25\u001b[0m  \u001b[31m24\u001b[0m  \u001b[31m 2\u001b[0m  \u001b[31m20\u001b[0m  \u001b[31m 4\u001b[0m     ] 3434.50 (36%)\n",
      "M2: [ \u001b[32m15\u001b[0m  \u001b[32m28\u001b[0m  \u001b[31m 3\u001b[0m  \u001b[32m23\u001b[0m  \u001b[32m17\u001b[0m  \u001b[32m22\u001b[0m  \u001b[31m 9\u001b[0m  \u001b[31m16\u001b[0m  \u001b[31m10\u001b[0m         ] 1865.40 (20%)\n",
      "M3: [ \u001b[32m19\u001b[0m  \u001b[32m29\u001b[0m  \u001b[31m 6\u001b[0m  \u001b[32m21\u001b[0m  \u001b[32m12\u001b[0m  \u001b[31m14\u001b[0m  \u001b[31m 5\u001b[0m  \u001b[31m 7\u001b[0m  \u001b[31m18\u001b[0m  \u001b[31m 8\u001b[0m  \u001b[31m 0\u001b[0m ] 4145.56 (44%)\n",
      "       0   1   2   3   4   5   6   7   8   9  10   9484.39\n",
      "M1: [ \u001b[32m26\u001b[0m  \u001b[32m13\u001b[0m  \u001b[31m11\u001b[0m  \u001b[31m 1\u001b[0m  \u001b[32m27\u001b[0m  \u001b[31m25\u001b[0m  \u001b[31m24\u001b[0m  \u001b[31m 2\u001b[0m  \u001b[31m20\u001b[0m  \u001b[31m 4\u001b[0m     ] 3434.50 (36%)\n",
      "M2: [ \u001b[32m15\u001b[0m  \u001b[32m28\u001b[0m  \u001b[31m 3\u001b[0m  \u001b[32m23\u001b[0m  \u001b[32m17\u001b[0m  \u001b[32m22\u001b[0m  \u001b[31m16\u001b[0m  \u001b[31m 9\u001b[0m  \u001b[31m10\u001b[0m         ] 2048.00 (22%)\n",
      "M3: [ \u001b[32m19\u001b[0m  \u001b[32m29\u001b[0m  \u001b[31m 6\u001b[0m  \u001b[32m21\u001b[0m  \u001b[32m12\u001b[0m  \u001b[31m 5\u001b[0m  \u001b[31m14\u001b[0m  \u001b[31m 7\u001b[0m  \u001b[31m18\u001b[0m  \u001b[31m 8\u001b[0m  \u001b[31m 0\u001b[0m ] 4001.89 (42%)\n",
      "       0   1   2   3   4   5   6   7   8   9  10   9514.90\n",
      "M1: [ \u001b[32m26\u001b[0m  \u001b[32m13\u001b[0m  \u001b[31m11\u001b[0m  \u001b[31m 1\u001b[0m  \u001b[32m27\u001b[0m  \u001b[31m25\u001b[0m  \u001b[31m24\u001b[0m  \u001b[31m 2\u001b[0m  \u001b[31m20\u001b[0m  \u001b[31m 4\u001b[0m     ] 3434.50 (36%)\n",
      "M2: [ \u001b[32m15\u001b[0m  \u001b[32m28\u001b[0m  \u001b[31m 3\u001b[0m  \u001b[32m23\u001b[0m  \u001b[32m17\u001b[0m  \u001b[32m22\u001b[0m  \u001b[31m 9\u001b[0m  \u001b[31m16\u001b[0m  \u001b[31m10\u001b[0m         ] 1865.40 (20%)\n",
      "M3: [ \u001b[32m19\u001b[0m  \u001b[32m29\u001b[0m  \u001b[31m 6\u001b[0m  \u001b[32m21\u001b[0m  \u001b[31m 5\u001b[0m  \u001b[31m12\u001b[0m  \u001b[31m14\u001b[0m  \u001b[31m 7\u001b[0m  \u001b[31m18\u001b[0m  \u001b[31m 8\u001b[0m  \u001b[31m 0\u001b[0m ] 4215.00 (44%)\n",
      "       0   1   2   3   4   5   6   7   8   9  10   9654.79\n",
      "M1: [ \u001b[32m26\u001b[0m  \u001b[32m13\u001b[0m  \u001b[31m11\u001b[0m  \u001b[31m 1\u001b[0m  \u001b[32m27\u001b[0m  \u001b[31m25\u001b[0m  \u001b[31m24\u001b[0m  \u001b[31m 2\u001b[0m  \u001b[31m20\u001b[0m  \u001b[31m 4\u001b[0m     ] 3434.50 (36%)\n",
      "M2: [ \u001b[32m15\u001b[0m  \u001b[32m28\u001b[0m  \u001b[31m 3\u001b[0m  \u001b[32m23\u001b[0m  \u001b[32m22\u001b[0m  \u001b[31m17\u001b[0m  \u001b[31m 9\u001b[0m  \u001b[31m16\u001b[0m  \u001b[31m10\u001b[0m         ] 2218.40 (23%)\n",
      "M3: [ \u001b[32m19\u001b[0m  \u001b[32m29\u001b[0m  \u001b[31m 6\u001b[0m  \u001b[32m21\u001b[0m  \u001b[32m12\u001b[0m  \u001b[31m 5\u001b[0m  \u001b[31m14\u001b[0m  \u001b[31m 7\u001b[0m  \u001b[31m18\u001b[0m  \u001b[31m 8\u001b[0m  \u001b[31m 0\u001b[0m ] 4001.89 (41%)\n",
      "       0   1   2   3   4   5   6   7   8   9  10   9659.34\n",
      "M1: [ \u001b[32m26\u001b[0m  \u001b[32m13\u001b[0m  \u001b[31m11\u001b[0m  \u001b[31m 1\u001b[0m  \u001b[32m27\u001b[0m  \u001b[31m25\u001b[0m  \u001b[31m24\u001b[0m  \u001b[31m 2\u001b[0m  \u001b[31m20\u001b[0m  \u001b[31m 4\u001b[0m     ] 3434.50 (36%)\n",
      "M2: [ \u001b[32m15\u001b[0m  \u001b[32m28\u001b[0m  \u001b[31m 3\u001b[0m  \u001b[32m23\u001b[0m  \u001b[32m17\u001b[0m  \u001b[32m22\u001b[0m  \u001b[31m 9\u001b[0m  \u001b[31m16\u001b[0m  \u001b[31m10\u001b[0m         ] 1865.40 (19%)\n",
      "M3: [ \u001b[32m29\u001b[0m  \u001b[32m19\u001b[0m  \u001b[31m 6\u001b[0m  \u001b[32m21\u001b[0m  \u001b[31m12\u001b[0m  \u001b[31m 5\u001b[0m  \u001b[31m14\u001b[0m  \u001b[31m 7\u001b[0m  \u001b[31m18\u001b[0m  \u001b[31m 8\u001b[0m  \u001b[31m 0\u001b[0m ] 4359.44 (45%)\n",
      "       0   1   2   3   4   5   6   7   8   9  10   9701.79\n",
      "M1: [ \u001b[32m26\u001b[0m  \u001b[32m13\u001b[0m  \u001b[31m11\u001b[0m  \u001b[31m 1\u001b[0m  \u001b[32m27\u001b[0m  \u001b[31m25\u001b[0m  \u001b[31m 2\u001b[0m  \u001b[31m24\u001b[0m  \u001b[31m20\u001b[0m  \u001b[31m 4\u001b[0m     ] 3834.50 (40%)\n",
      "M2: [ \u001b[32m15\u001b[0m  \u001b[32m28\u001b[0m  \u001b[31m 3\u001b[0m  \u001b[32m23\u001b[0m  \u001b[32m17\u001b[0m  \u001b[32m22\u001b[0m  \u001b[31m 9\u001b[0m  \u001b[31m16\u001b[0m  \u001b[31m10\u001b[0m         ] 1865.40 (19%)\n",
      "M3: [ \u001b[32m19\u001b[0m  \u001b[32m29\u001b[0m  \u001b[31m 6\u001b[0m  \u001b[32m21\u001b[0m  \u001b[32m12\u001b[0m  \u001b[31m 5\u001b[0m  \u001b[31m14\u001b[0m  \u001b[31m 7\u001b[0m  \u001b[31m18\u001b[0m  \u001b[31m 8\u001b[0m  \u001b[31m 0\u001b[0m ] 4001.89 (41%)\n",
      "       0   1   2   3   4   5   6   7   8   9  10   9825.12\n",
      "M1: [ \u001b[32m26\u001b[0m  \u001b[32m13\u001b[0m  \u001b[31m11\u001b[0m  \u001b[31m 1\u001b[0m  \u001b[32m27\u001b[0m  \u001b[31m25\u001b[0m  \u001b[31m24\u001b[0m  \u001b[31m 2\u001b[0m  \u001b[31m20\u001b[0m  \u001b[31m 4\u001b[0m     ] 3434.50 (35%)\n",
      "M2: [ \u001b[32m15\u001b[0m  \u001b[32m28\u001b[0m  \u001b[31m 3\u001b[0m  \u001b[32m23\u001b[0m  \u001b[32m17\u001b[0m  \u001b[32m22\u001b[0m  \u001b[31m 9\u001b[0m  \u001b[31m16\u001b[0m  \u001b[31m10\u001b[0m         ] 1865.40 (19%)\n",
      "M3: [ \u001b[32m19\u001b[0m  \u001b[32m 6\u001b[0m  \u001b[32m29\u001b[0m  \u001b[32m21\u001b[0m  \u001b[31m12\u001b[0m  \u001b[31m 5\u001b[0m  \u001b[31m14\u001b[0m  \u001b[31m 7\u001b[0m  \u001b[31m18\u001b[0m  \u001b[31m 8\u001b[0m  \u001b[31m 0\u001b[0m ] 4525.22 (46%)\n",
      "       0   1   2   3   4   5   6   7   8   9  10   9837.79\n",
      "M1: [ \u001b[32m13\u001b[0m  \u001b[32m26\u001b[0m  \u001b[31m11\u001b[0m  \u001b[31m 1\u001b[0m  \u001b[32m27\u001b[0m  \u001b[31m25\u001b[0m  \u001b[31m24\u001b[0m  \u001b[31m 2\u001b[0m  \u001b[31m20\u001b[0m  \u001b[31m 4\u001b[0m     ] 3970.50 (40%)\n",
      "M2: [ \u001b[32m15\u001b[0m  \u001b[32m28\u001b[0m  \u001b[31m 3\u001b[0m  \u001b[32m23\u001b[0m  \u001b[32m17\u001b[0m  \u001b[32m22\u001b[0m  \u001b[31m 9\u001b[0m  \u001b[31m16\u001b[0m  \u001b[31m10\u001b[0m         ] 1865.40 (19%)\n",
      "M3: [ \u001b[32m19\u001b[0m  \u001b[32m29\u001b[0m  \u001b[31m 6\u001b[0m  \u001b[32m21\u001b[0m  \u001b[32m12\u001b[0m  \u001b[31m 5\u001b[0m  \u001b[31m14\u001b[0m  \u001b[31m 7\u001b[0m  \u001b[31m18\u001b[0m  \u001b[31m 8\u001b[0m  \u001b[31m 0\u001b[0m ] 4001.89 (41%)\n",
      "\n",
      "Moves that produce the same schedules:\n"
     ]
    }
   ],
   "source": [
    "# Ensure all moves produce a schedule that is different from the one we started with.\n",
    "s = heuristic_constructive_random()\n",
    "print(s)\n",
    "\n",
    "moves: list[Move] = Move.get_moves(s)\n",
    "print(f'\\nAmount of moves: {len(moves)}')\n",
    "\n",
    "moved_schedules = [move.get_moved(s) for move in moves]\n",
    "print(f\"\\nMoves that do nothing: {sum([(s == moved_s) for moved_s in moved_schedules])}\")\n",
    "\n",
    "print(f'\\nUnique schedules after moves: {len(set(moved_schedules))}')\n",
    "\n",
    "# Determine moves that produce the identical schedule (sorting by cost is not guaranteed to work)\n",
    "sorted_moves = sorted(moves, key = lambda move: move.get_moved(s).get_cost())\n",
    "for schedule, group in iter.groupby(sorted_moves, lambda move: move.get_moved(s)):\n",
    "    if (len(list(group)) > 1):\n",
    "        print(schedule)\n",
    "        for move in group:\n",
    "            print(move)\n",
    "\n",
    "print(f'\\nMoves that produce the same schedules:')"
   ]
  },
  {
   "cell_type": "code",
   "execution_count": 14,
   "metadata": {},
   "outputs": [
    {
     "name": "stdout",
     "output_type": "stream",
     "text": [
      "[2, 2, 2, 2, 2, 2, 2, 2, 2, 2, 1, 1, 2, 2, 2]\n"
     ]
    }
   ],
   "source": [
    "self = heuristic_constructive_random()\n",
    "\n",
    "queue_lengths = [len(queue) for queue in self.queues]\n",
    "\n",
    "queue_columns = [\n",
    "    max([\n",
    "        len(str(self[mi, oi])) for mi in PS.machine_ids if oi < len(self[mi, :])\n",
    "    ]) for oi in range(max(queue_lengths))\n",
    "]\n",
    "print(queue_columns)"
   ]
  },
  {
   "cell_type": "code",
   "execution_count": 15,
   "metadata": {},
   "outputs": [
    {
     "name": "stdout",
     "output_type": "stream",
     "text": [
      "white\u001b[31mred\u001b[0mwhite\n"
     ]
    }
   ],
   "source": [
    "print(\"white\\x1b[31mred\\x1b[0mwhite\")"
   ]
  }
 ],
 "metadata": {
  "kernelspec": {
   "display_name": "Python 3 (ipykernel)",
   "language": "python",
   "name": "python3"
  },
  "language_info": {
   "codemirror_mode": {
    "name": "ipython",
    "version": 3
   },
   "file_extension": ".py",
   "mimetype": "text/x-python",
   "name": "python",
   "nbconvert_exporter": "python",
   "pygments_lexer": "ipython3",
   "version": "3.11.5"
  }
 },
 "nbformat": 4,
 "nbformat_minor": 2
}
